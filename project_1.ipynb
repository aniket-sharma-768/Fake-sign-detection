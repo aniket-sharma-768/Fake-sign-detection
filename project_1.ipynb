{
 "cells": [
  {
   "cell_type": "markdown",
   "metadata": {},
   "source": [
    "## IDC409: Database Creation"
   ]
  },
  {
   "cell_type": "code",
   "execution_count": 1,
   "metadata": {},
   "outputs": [],
   "source": [
    "from mysql.connector import connect\n",
    "import requests\n",
    "from bs4 import BeautifulSoup\n",
    "import re\n",
    "from datetime import datetime\n",
    "import time"
   ]
  },
  {
   "cell_type": "markdown",
   "metadata": {},
   "source": [
    "##### Info: \n",
    "- Reference: https://realpython.com/python-mysql/#installing-mysql-server-and-mysql-connectorpython\n",
    "- To start MYSQL service: ```service mysql start```\n",
    "- Source website: https://www.mdpi.com/"
   ]
  },
  {
   "cell_type": "markdown",
   "metadata": {},
   "source": [
    "### SQL Queries"
   ]
  },
  {
   "cell_type": "code",
   "execution_count": 2,
   "metadata": {},
   "outputs": [],
   "source": [
    "create_table_query = \"\"\"\n",
    "CREATE TABLE articles(\n",
    "    id INT AUTO_INCREMENT PRIMARY KEY,\n",
    "    title VARCHAR(1000),\n",
    "    authors VARCHAR(1000),\n",
    "    journal VARCHAR(1000),\n",
    "    published_date DATE,\n",
    "    doi VARCHAR(500),\n",
    "    abstract VARCHAR(5000)\n",
    ")\"\"\"\n",
    "\n",
    "insert_query = \"\"\"\n",
    "INSERT INTO articles\n",
    "(title, authors, journal, published_date, doi, abstract)\n",
    "VALUES (%s, %s, %s, %s, %s, %s)\n",
    "\"\"\""
   ]
  },
  {
   "cell_type": "markdown",
   "metadata": {},
   "source": [
    "### Helper functions to clean data"
   ]
  },
  {
   "cell_type": "code",
   "execution_count": 3,
   "metadata": {},
   "outputs": [],
   "source": [
    "#Helper functions to clean and extract relevant data\n",
    "\n",
    "url = re.compile(\" (https://doi.org/.*?) \")\n",
    "date = re.compile(\" (\\d{2} \\w{3} \\d{4})\")\n",
    "\n",
    "def cleanAuthor(auth):\n",
    "    auth = re.sub(\"\\\\nby\\\\n\", \"\", auth)\n",
    "    auth = re.sub(\" and \", \", \", auth)\n",
    "    return auth\n",
    "\n",
    "def cleanDOI(doi):\n",
    "    return url.search(doi).group(1)\n",
    "\n",
    "def cleanDate(doi):\n",
    "    date_obj = datetime.strptime(date.search(doi).group(1), '%d %b %Y')\n",
    "    return date_obj.strftime('%Y-%m-%d')\n",
    "\n",
    "def cleanJournal(doi):\n",
    "    journ = re.compile(\"(.*);\")\n",
    "    return journ.search(doi).group(1)\n",
    "\n",
    "def cleanAbstract(abst):\n",
    "    abst = re.sub(\"(Full article|\\\\n)\", \"\", abst)\n",
    "    return abst"
   ]
  },
  {
   "cell_type": "markdown",
   "metadata": {},
   "source": [
    "### Get maximum number of pages"
   ]
  },
  {
   "cell_type": "code",
   "execution_count": 10,
   "metadata": {},
   "outputs": [],
   "source": [
    "def getMaxPages(max_pg, kw = \"\", auth = \"\"):\n",
    "    \n",
    "    #replace space with plus in the queries\n",
    "    kw = re.sub(\" \", \"+\", kw)\n",
    "    auth = re.sub(\"[ ,]\", \"+\", auth)\n",
    "    \n",
    "    #Webscrape the results page for list of articles\n",
    "    url = \"https://www.mdpi.com/search?sort=pubdate&page_no=1\"\\\n",
    "           +\"&page_count=15&year_from=1996&year_to=2021&q=\"\\\n",
    "           + kw + \"&authors=\" + auth + \"&view=default\"\n",
    "     \n",
    "    print(url)\n",
    "    p=requests.get(url) #get the html content of the page\n",
    "    s=BeautifulSoup(p.content, \"html.parser\") #parse the page\n",
    "    \n",
    "    #get the max page number\n",
    "    pg = re.compile(\"of (\\d+).\")\n",
    "    pgtext = s.find(\"div\", {\"class\":\"columns large-6 medium-6 small-12\"}).text\n",
    "\n",
    "    return min(max_pg, int(pg.search(pgtext).group(1)))"
   ]
  },
  {
   "cell_type": "markdown",
   "metadata": {},
   "source": [
    "### Main code to scrape the data and fill into SQL"
   ]
  },
  {
   "cell_type": "code",
   "execution_count": 33,
   "metadata": {},
   "outputs": [],
   "source": [
    "def fillDatabase(pg, kw = \"\", auth = \"\"):\n",
    "    \n",
    "    #replace space with plus in the queries\n",
    "    kw = re.sub(\" \", \"+\", kw)\n",
    "    auth = re.sub(\"[ ,]\", \"+\", auth)\n",
    "    \n",
    "    #Webscrape the results page for list of articles\n",
    "    url = \"https://www.mdpi.com/search?sort=pubdate&page_no=\"\\\n",
    "           + str(pg) +\"&page_count=15&year_from=1996&year_to=2021&q=\"\\\n",
    "           + kw + \"&authors=\" + auth + \"&view=default\"\n",
    "            \n",
    "    p=requests.get(url) #get the html content of the page\n",
    "    s=BeautifulSoup(p.content, \"html.parser\") #parse the page\n",
    "\n",
    "    #Extract the data\n",
    "    titles = [title.text for title in s.select(\"a.title-link\")]\n",
    "    raw_authors = [author.text for author in s.find_all(\"div\", {\"class\": \"authors\"})]\n",
    "    raw_dois = [doi.text for doi in s.find_all(\"div\", {\"class\": \"color-grey-dark\"})]\n",
    "    raw_abstracts = [abstract.text for abstract in s.find_all(\"div\", {\"class\": \"abstract-full\"})]\n",
    "    \n",
    "    #Clean the data\n",
    "    authors = [cleanAuthor(author) for author in raw_authors]\n",
    "    dois = [cleanDOI(doi) for doi in raw_dois]\n",
    "    journals = [cleanJournal(doi) for doi in raw_dois]\n",
    "    dates = [cleanDate(doi) for doi in raw_dois]\n",
    "    abstracts = [cleanAbstract(abstract) for abstract in raw_abstracts]\n",
    "    \n",
    "    #Create tuples of records (title, authors, journal, date, doi, abstract)\n",
    "    records = []\n",
    "    for i in range(len(titles)):\n",
    "        records.append((titles[i], authors[i], journals[i], dates[i], dois[i], abstracts[i]))\n",
    "            \n",
    "    #Insert data in SQL table\n",
    "    with connection.cursor() as cursor:\n",
    "        cursor.executemany(insert_query, records)\n",
    "        connection.commit()\n",
    "        \n",
    "    #Delay to avoid being blocked by the web server\n",
    "    time.sleep(2.5)\n",
    "    \n",
    "    #Progress indicator\n",
    "    print(\"Page \" + str(pg) + \" completed...\")"
   ]
  },
  {
   "cell_type": "markdown",
   "metadata": {},
   "source": [
    "### Driver code, putting everything together"
   ]
  },
  {
   "cell_type": "code",
   "execution_count": 34,
   "metadata": {},
   "outputs": [],
   "source": [
    "def driver(pg, kw = \"\", auth = \"\"):\n",
    "    \n",
    "    pg = getMaxPages(pg, kw, auth)\n",
    "    \n",
    "    for page in range(1, pg + 1):\n",
    "        fillDatabase(page)"
   ]
  },
  {
   "cell_type": "markdown",
   "metadata": {},
   "source": [
    "### Connect with the MySQL database"
   ]
  },
  {
   "cell_type": "code",
   "execution_count": 7,
   "metadata": {},
   "outputs": [],
   "source": [
    "connection = connect(\n",
    "        host=\"localhost\",\n",
    "        user=\"idc409\",\n",
    "        password=\"pwd\", database=\"test\")"
   ]
  },
  {
   "cell_type": "code",
   "execution_count": 37,
   "metadata": {},
   "outputs": [],
   "source": [
    "## Drop table; in case wrong entries were filled\n",
    "# with connection.cursor() as cursor:\n",
    "#     cursor.execute(\"DROP TABLE articles\")\n",
    "#     connection.commit()\n",
    "    \n",
    "# Create table\n",
    "with connection.cursor() as cursor:\n",
    "    cursor.execute(create_table_query)\n",
    "    connection.commit()"
   ]
  },
  {
   "cell_type": "markdown",
   "metadata": {},
   "source": [
    "### Run the script"
   ]
  },
  {
   "cell_type": "code",
   "execution_count": 38,
   "metadata": {},
   "outputs": [
    {
     "name": "stdout",
     "output_type": "stream",
     "text": [
      "https://www.mdpi.com/search?sort=pubdate&page_no=1&page_count=15&year_from=1996&year_to=2021&q=&authors=&view=default\n",
      "Page 1 completed...\n",
      "Page 2 completed...\n",
      "Page 3 completed...\n",
      "Page 4 completed...\n",
      "Page 5 completed...\n",
      "Page 6 completed...\n",
      "Page 7 completed...\n",
      "Page 8 completed...\n",
      "Page 9 completed...\n",
      "Page 10 completed...\n"
     ]
    }
   ],
   "source": [
    "driver(10, kw = \"\", auth = \"\")"
   ]
  },
  {
   "cell_type": "code",
   "execution_count": null,
   "metadata": {},
   "outputs": [],
   "source": []
  }
 ],
 "metadata": {
  "kernelspec": {
   "display_name": "Python 3 (ipykernel)",
   "language": "python",
   "name": "python3"
  },
  "language_info": {
   "codemirror_mode": {
    "name": "ipython",
    "version": 3
   },
   "file_extension": ".py",
   "mimetype": "text/x-python",
   "name": "python",
   "nbconvert_exporter": "python",
   "pygments_lexer": "ipython3",
   "version": "3.8.10"
  }
 },
 "nbformat": 4,
 "nbformat_minor": 4
}
